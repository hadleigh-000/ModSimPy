{
 "cells": [
  {
   "cell_type": "markdown",
   "metadata": {},
   "source": [
    "\n"
   ]
  },
  {
   "cell_type": "code",
   "execution_count": 9,
   "metadata": {
    "collapsed": true
   },
   "outputs": [],
   "source": [
    "\n",
    "%matplotlib inline\n",
    "\n",
    "from modsim import *\n",
    "\n",
    "from pandas import read_html\n",
    "\n",
    "from pandas import read_csv\n",
    "\n",
    "\n"
   ]
  },
  {
   "cell_type": "code",
   "execution_count": 27,
   "metadata": {
    "collapsed": true
   },
   "outputs": [],
   "source": [
    "filename= (\"C:/Users/hnunes/documents/GitHub/ModSimpy/code/BeePop.csv\")\n",
    "\n",
    "\n",
    "\n",
    "tables = read_csv(filename, header=0, index_col=0, decimal='.')\n"
   ]
  },
  {
   "cell_type": "code",
   "execution_count": 32,
   "metadata": {},
   "outputs": [
    {
     "data": {
      "text/html": [
       "<div>\n",
       "<style>\n",
       "    .dataframe thead tr:only-child th {\n",
       "        text-align: right;\n",
       "    }\n",
       "\n",
       "    .dataframe thead th {\n",
       "        text-align: left;\n",
       "    }\n",
       "\n",
       "    .dataframe tbody tr th {\n",
       "        vertical-align: top;\n",
       "    }\n",
       "</style>\n",
       "<table border=\"1\" class=\"dataframe\">\n",
       "  <thead>\n",
       "    <tr style=\"text-align: right;\">\n",
       "      <th></th>\n",
       "      <th>Num Colonies</th>\n",
       "      <th>Lost colonies</th>\n",
       "      <th>Percent Lost</th>\n",
       "      <th>Added Colonies</th>\n",
       "      <th>Renovated Colonies</th>\n",
       "      <th>Percent Renovated</th>\n",
       "    </tr>\n",
       "  </thead>\n",
       "  <tbody>\n",
       "    <tr>\n",
       "      <th>1/1/2017  January- March</th>\n",
       "      <td>2619940</td>\n",
       "      <td>416100</td>\n",
       "      <td>16</td>\n",
       "      <td>571880</td>\n",
       "      <td>245060</td>\n",
       "      <td>9</td>\n",
       "    </tr>\n",
       "    <tr>\n",
       "      <th>4/1/17 April-June</th>\n",
       "      <td>2801470</td>\n",
       "      <td>329820</td>\n",
       "      <td>12</td>\n",
       "      <td>736920</td>\n",
       "      <td>561160</td>\n",
       "      <td>20</td>\n",
       "    </tr>\n",
       "    <tr>\n",
       "      <th>7/1/2017</th>\n",
       "      <td>3181180</td>\n",
       "      <td>397290</td>\n",
       "      <td>12</td>\n",
       "      <td>217320</td>\n",
       "      <td>282130</td>\n",
       "      <td>9</td>\n",
       "    </tr>\n",
       "    <tr>\n",
       "      <th>10/1/2017 october- december</th>\n",
       "      <td>3032060</td>\n",
       "      <td>502350</td>\n",
       "      <td>17</td>\n",
       "      <td>124660</td>\n",
       "      <td>60390</td>\n",
       "      <td>2</td>\n",
       "    </tr>\n",
       "  </tbody>\n",
       "</table>\n",
       "</div>"
      ],
      "text/plain": [
       "                             Num Colonies  Lost colonies  Percent Lost  \\\n",
       "1/1/2017  January- March          2619940         416100            16   \n",
       "4/1/17 April-June                 2801470         329820            12   \n",
       "7/1/2017                          3181180         397290            12   \n",
       "10/1/2017 october- december       3032060         502350            17   \n",
       "\n",
       "                             Added Colonies  Renovated Colonies  \\\n",
       "1/1/2017  January- March             571880              245060   \n",
       "4/1/17 April-June                    736920              561160   \n",
       "7/1/2017                             217320              282130   \n",
       "10/1/2017 october- december          124660               60390   \n",
       "\n",
       "                             Percent Renovated  \n",
       "1/1/2017  January- March                     9  \n",
       "4/1/17 April-June                           20  \n",
       "7/1/2017                                     9  \n",
       "10/1/2017 october- december                  2  "
      ]
     },
     "execution_count": 32,
     "metadata": {},
     "output_type": "execute_result"
    }
   ],
   "source": [
    "tables"
   ]
  },
  {
   "cell_type": "code",
   "execution_count": null,
   "metadata": {
    "collapsed": true
   },
   "outputs": [],
   "source": []
  },
  {
   "cell_type": "code",
   "execution_count": null,
   "metadata": {
    "collapsed": true
   },
   "outputs": [],
   "source": []
  },
  {
   "cell_type": "code",
   "execution_count": null,
   "metadata": {
    "collapsed": true
   },
   "outputs": [],
   "source": []
  },
  {
   "cell_type": "code",
   "execution_count": null,
   "metadata": {
    "collapsed": true
   },
   "outputs": [],
   "source": []
  },
  {
   "cell_type": "code",
   "execution_count": null,
   "metadata": {
    "collapsed": true
   },
   "outputs": [],
   "source": []
  },
  {
   "cell_type": "code",
   "execution_count": null,
   "metadata": {
    "collapsed": true
   },
   "outputs": [],
   "source": []
  }
 ],
 "metadata": {
  "kernelspec": {
   "display_name": "Python 3",
   "language": "python",
   "name": "python3"
  },
  "language_info": {
   "codemirror_mode": {
    "name": "ipython",
    "version": 3
   },
   "file_extension": ".py",
   "mimetype": "text/x-python",
   "name": "python",
   "nbconvert_exporter": "python",
   "pygments_lexer": "ipython3",
   "version": "3.6.1"
  }
 },
 "nbformat": 4,
 "nbformat_minor": 2
}
